{
 "cells": [
  {
   "cell_type": "markdown",
   "metadata": {},
   "source": [
    "# Documenting code as a Data Scientist"
   ]
  },
  {
   "cell_type": "markdown",
   "metadata": {},
   "source": [
    "## Why writing documentation:\n",
    "\n",
    "* For you \n",
    "    * You will be using your code in 6 months\n",
    "    * You want people to use your code and give you credit\n",
    "    * You want to learn self-determination\n",
    "    * Others would be encouraged to contribute to your code\n",
    "* For others: \n",
    "    * Others can easily use your code and build upon it\n",
    "* For science:\n",
    "    * Advance the science\n",
    "    * Encourage open science \n",
    "    * Allow reproducibility and transparency"
   ]
  },
  {
   "cell_type": "markdown",
   "metadata": {},
   "source": [
    "Code that you wrote 6 months ago is often indistinguishable from code that someone else has written. You will look upon a file with a fond sense of remembrance. Then a sneaking feeling of foreboding, knowing that someone less experienced, less wise, had written it.\n",
    "\n",
    "As you go through this selfless act of untangling things that were obvious or clever months ago, you will start to empathize with your users. If only I had written down why I had done this. Life would be so much simpler. Documentation allows you to transfer the why behind code. Much in the same way code comments explain the why, and not the how, documentation serves the same purpose.\n",
    "\n",
    "You have written a piece of code, and released it into the world. You have done this because you think that others might find it useful. However, people need to understand why your code might be useful for them, before they decide to use it. Documentation tells people that this project is for them.\n",
    "\n",
    "If people don’t know why your project exists,\n",
    "they won’t use it.\n",
    "If people can’t figure out how to install your code,\n",
    "they won’t use it.\n",
    "If people can’t figure out how to use your code,\n",
    "they won’t use it.\n",
    "There are a small number of people who will source dive and use any code out there. That is a vanishingly small number of people, compared to people who will use your code when properly documented. If you really love your project, document it, and let other people use it."
   ]
  },
  {
   "cell_type": "markdown",
   "metadata": {},
   "source": [
    "Version controlled plain text\n",
    "As programmers we live in a world of plain text. Our documentation tooling should be no exception. We want tools that turn plain text into pretty HTML. We also have some of the best tooling available for tracking changes to files. Why would we forgo using those tools when writing documentation? This workflow is powerful, and familiar to developers.\n",
    "\n",
    "Basic Example\n",
    "Resources\n",
    "---------\n",
    "\n",
    "* Online documentation: http://docs.writethedocs.org/\n",
    "* Conference: http://conf.writethedocs.org/\n",
    "This will render into a header, with a list underneath it. The URLs will be hyperlinked automatically. It’s easy to write, still makes sense as plain text, and renders nicely into HTML."
   ]
  },
  {
   "cell_type": "markdown",
   "metadata": {},
   "source": [
    "README\n",
    "Your first steps in documentation should go into your README. Code hosting services will render your README into HTML automatically if you provide the proper extension. It is also the first interaction that most users will have with your project. So having a solid README will serve your project well.\n",
    "\n",
    "Some people even go as far as to start your project with a README"
   ]
  },
  {
   "cell_type": "markdown",
   "metadata": {},
   "source": [
    "Template\n",
    "A simple template for you to start with, for your README. Name the file README.md if you want to use markdown, or README.rst if you want to use reStruct"
   ]
  },
  {
   "cell_type": "markdown",
   "metadata": {},
   "source": [
    "$project\n",
    "========\n",
    "\n",
    "$project will solve your problem of where to start with documentation,\n",
    "by providing a basic explanation of how to do it easily.\n",
    "\n",
    "Look how easy it is to use:\n",
    "\n",
    "    import project\n",
    "    # Get your stuff done\n",
    "    project.do_stuff()\n",
    "\n",
    "Features\n",
    "--------\n",
    "\n",
    "- Be awesome\n",
    "- Make things faster\n",
    "\n",
    "Installation\n",
    "------------\n",
    "\n",
    "Install $project by running:\n",
    "\n",
    "    install project\n",
    "\n",
    "Contribute\n",
    "----------\n",
    "\n",
    "- Issue Tracker: github.com/$project/$project/issues\n",
    "- Source Code: github.com/$project/$project\n",
    "\n",
    "Support\n",
    "-------\n",
    "\n",
    "If you are having issues, please let us know.\n",
    "We have a mailing list located at: project@google-groups.com\n",
    "\n",
    "License\n",
    "-------\n",
    "\n",
    "The project is licensed under the BSD license."
   ]
  },
  {
   "cell_type": "markdown",
   "metadata": {},
   "source": [
    "The point is that commenting is indeed only one of the tools available for making code more understandable. Sometime it is more successful, sometimes it is not.\n",
    "\n",
    "## When you’d prefer to use comments rather than other tool?\n",
    "Comments shine mostly when:\n",
    "\n",
    "* the reader needs context, that is not possible to express using the existing entities\n",
    "* the code has to make special assumptions about its environment, if that’s the case — the “special” part of environment should be normalized and the comment removed\n",
    "* “discusses difficult or subtle algorithms and data structures” (source)\n",
    "* other tools cannot be applied (due to limitations of size / time), if that’s the case — comments are obviously temporary\n",
    "* heavy performance optimization that involve ugliness, well ok\n",
    "\n",
    "## The cost of commenting\n",
    "Having agreed on the three basic arguments, let’s consider what is the cost of using comments:\n",
    "\n",
    "* Comments need maintenance, when refactoring code you have to refactor comments as well\n",
    "* Good comments are hard to write, good comments should be precise and relevant. Precision requires stability and well-defined requirements / environment that doesn’t change. Lack of changes is a luxury in modern software projects.\n",
    "* Temptation / culture that promotes using comments prevents developers from writing cleaner, explanatory code.\n",
    "* Comments hide design issues — the design of a system cannot be expressed effectively with the entities and abstractions that are clear and understandable\n",
    "\n",
    "While there is place to have comments here and there to mitigate temporary issues, most commonly commenting is evidence of inability to use other tools (renaming, decoupling, incapsulate) to express intentions of the code written."
   ]
  },
  {
   "cell_type": "markdown",
   "metadata": {},
   "source": [
    "## Documentation\n",
    "There’re 2 main consumers for a written code: maintainers and external users.\n",
    "\n",
    "### Maintainers are mainly concerned with the next questions:\n",
    "\n",
    "* What the code does\n",
    "* How the code does it\n",
    "\n",
    "### External users are interested to know\n",
    "\n",
    "* How to use the code\n",
    "\n",
    "\n",
    "### Documentation For External Users\n",
    "\n",
    "Traditionally, in-code documentation describes how to use it. That’s why it is common to document the API provided by a module / package. What makes having documentation in code so convenient is:\n",
    "\n",
    "* Proximity to the code, i.e. portability\n",
    "* Ability of tools / IDE to populate some part of documentation automatically\n",
    "* IDEs ability to parse documentation and show inline hints\n",
    "\n",
    "Now, when working on a project consider whether you have any external user? Users that would use your code and need to understand how to use it properly.\n",
    "\n",
    "So go ahead and write a good documentation, describe the arguments and their type and assumptions; enjoy the automated tools that easily can create nice HTML and PDF.\n",
    "\n",
    "Pay attention, though, that often the purpose of adding a formatted comment is not to explain how to use the code, but to include the method in listing of exposed API, i.e. the code is self explanatory and the documentation is only added for integrity.\n",
    "\n",
    "### Documentation For Maintainers\n",
    "\n",
    "Okay, we have a project and there’s a team of developers that work on it.\n",
    "\n",
    "You want new / other developers to effectively engage and start development — they need to understand the overall design of the system, the terms and abstractions used, they need to understand what the code does and how.\n",
    "\n",
    "So most chances, your project has:\n",
    "\n",
    "* Design documentation\n",
    "* API spec\n",
    "* Readme\n",
    "* Contribution guide\n",
    "* FAQ\n",
    "* Wiki\n",
    "\n",
    "You will want to keep all of these up-to-date — this is your project’s documentation.\n",
    "\n",
    "Not the code.\n",
    "\n",
    "The information you would want to keep documented inline in code, but not in one of the mentioned items is very limited. Otherwise it will be duplication of information, which is, by obvious reasons is bad.\n",
    "\n",
    "You may want to keep the relevant information close to the source code for the sake of convenience, but keep in mind that keeping it up-to-date will require and effort. Moreover, having non-updated documentation might be harmful.\n",
    "\n",
    "You should document responsibly."
   ]
  },
  {
   "cell_type": "markdown",
   "metadata": {},
   "source": []
  },
  {
   "cell_type": "markdown",
   "metadata": {},
   "source": []
  },
  {
   "cell_type": "markdown",
   "metadata": {},
   "source": []
  }
 ],
 "metadata": {
  "kernelspec": {
   "display_name": "Python 3",
   "language": "python",
   "name": "python3"
  },
  "language_info": {
   "codemirror_mode": {
    "name": "ipython",
    "version": 3
   },
   "file_extension": ".py",
   "mimetype": "text/x-python",
   "name": "python",
   "nbconvert_exporter": "python",
   "pygments_lexer": "ipython3",
   "version": "3.6.1"
  }
 },
 "nbformat": 4,
 "nbformat_minor": 2
}
