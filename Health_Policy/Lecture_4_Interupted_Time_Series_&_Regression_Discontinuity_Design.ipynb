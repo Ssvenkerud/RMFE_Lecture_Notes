{
 "cells": [
  {
   "cell_type": "markdown",
   "metadata": {
    "collapsed": true,
    "slideshow": {
     "slide_type": "slide"
    }
   },
   "source": [
    "# Health policy evaluation method 2: Interupted time series and regression discontinuity design\n",
    "\n",
    "Simen Svenkerud"
   ]
  },
  {
   "cell_type": "markdown",
   "metadata": {
    "slideshow": {
     "slide_type": "subslide"
    }
   },
   "source": [
    "## Outline\n",
    "\n",
    "* Interupted time series - Principles and methods\n",
    "* Regression discontinuity designs - Principles and methods\n",
    "* When to use each of these methods\n",
    "* Strength and weaknesses\n",
    "* A few examples"
   ]
  },
  {
   "cell_type": "markdown",
   "metadata": {
    "slideshow": {
     "slide_type": "slide"
    }
   },
   "source": [
    "## Analysing interventions in 7 steps\n",
    "\n",
    "1. Defiining policies and interventions\n",
    "2. Specifying a 'theory of change'\n",
    "3. Defining outcomes, indicators and data collection\n",
    "4. **Establishing the counterfactual**\n",
    "5. **Analysing and interpreting the effect**\n",
    "6. Disseminating findings\n",
    "7. Transferring results"
   ]
  },
  {
   "cell_type": "markdown",
   "metadata": {
    "slideshow": {
     "slide_type": "subslide"
    }
   },
   "source": [
    "## Interupted time series\n",
    "\n",
    "{Insert a graph of Interupted timeseries}"
   ]
  },
  {
   "cell_type": "markdown",
   "metadata": {
    "slideshow": {
     "slide_type": "subslide"
    }
   },
   "source": [
    "## Interupted time series with control\n",
    "\n",
    "{Insert graph of timeseries with controll}"
   ]
  },
  {
   "cell_type": "markdown",
   "metadata": {
    "slideshow": {
     "slide_type": "slide"
    }
   },
   "source": [
    "## Using routine data to evaluate intervention\n",
    "\n",
    "* Administrative datasets can be used to evaluate change using quasi-experimental methods\n",
    "    * 'Second best' evaluation when RCTs are not feasible\n",
    "* Particularly useful for interrupted time series\n",
    "    * Depending on the data source, can take observations monthly, weekly or even daily"
   ]
  },
  {
   "cell_type": "markdown",
   "metadata": {
    "slideshow": {
     "slide_type": "slide"
    }
   },
   "source": [
    "## Time series and interventions\n",
    "\n",
    "* Time series - a 'sequence of values at a particular measure taken at regularly spaces intervals over time'\n",
    "* Change points - specific points in time where values in a time series might change from a previously established pattern\n",
    "    * Real world event\n",
    "    * Policy change\n",
    "    * Experimental intervention"
   ]
  },
  {
   "cell_type": "markdown",
   "metadata": {
    "slideshow": {
     "slide_type": "subslide"
    }
   },
   "source": [
    "## Interupted time series analysis\n",
    "\n",
    "* Even when no control group is possible, e.g. when a change is one-off and national, interrupted time series analysis is possible\n",
    "* Most often used with administrative data rather than survey data\n",
    "    * needs regular and frequent measures, and numerous time points before and after the change\n",
    "* Many examples of potential data sources - hospital episodes, prescription data, crime figures, road traffic accidents, etc."
   ]
  },
  {
   "cell_type": "markdown",
   "metadata": {
    "slideshow": {
     "slide_type": "subslide"
    }
   },
   "source": [
    "## ITS Choices\n",
    "\n",
    "* choice of change point\n",
    "    * Beginning and end of each segment requires carefull thought, e.g. lag times to allow an intervention to take effect\n",
    "* Choice of statistical analysis - a number of options\n",
    "    * Segmented regression\n",
    "        * e.g. Wagner AK et al. segmented regression analysis of interupted time series in medication use research. Jnl of clinical Pharmacy and Therapeutics 2002; 27: 299-309\n",
    "    * ARIMA models (Often hierarchical)"
   ]
  },
  {
   "cell_type": "markdown",
   "metadata": {
    "slideshow": {
     "slide_type": "subslide"
    }
   },
   "source": [
    "## Segmented regression analysis\n",
    "\n",
    "* Method for statistical modelling ITS data to draw conclusions\n",
    "* Identify any change in *level* or *trend* after some intervention point\n",
    "    * Abrupt intervention effect\n",
    "    * Gradual change"
   ]
  },
  {
   "cell_type": "markdown",
   "metadata": {
    "slideshow": {
     "slide_type": "subslide"
    }
   },
   "source": [
    "## Change in level (Intercept)\n",
    "\n",
    "{Insert figure on level change}"
   ]
  },
  {
   "cell_type": "markdown",
   "metadata": {
    "slideshow": {
     "slide_type": "subslide"
    }
   },
   "source": [
    "## Change in trend (slope)\n",
    "\n",
    "{insert figure with slope change}"
   ]
  },
  {
   "cell_type": "markdown",
   "metadata": {
    "slideshow": {
     "slide_type": "subslide"
    }
   },
   "source": [
    "## Estimating changes\n",
    "\n",
    "* First step - scatter plot or line graph to explore trends and change points\n",
    "    * Visual inspection is essential\n",
    "* Fit a least square regression ine to each segment\n",
    "    * assuming a linear (or other) relationship between time and outcome\n",
    "    \n",
    "Yt = beta0 + bea1 * time + beta2*Intervetnion + beta3 * time after intervention + error t"
   ]
  },
  {
   "cell_type": "markdown",
   "metadata": {
    "slideshow": {
     "slide_type": "subslide"
    }
   },
   "source": [
    "## Data example\n",
    "\n",
    "{Table of data}"
   ]
  },
  {
   "cell_type": "markdown",
   "metadata": {
    "slideshow": {
     "slide_type": "subslide"
    }
   },
   "source": [
    "## Graphical presentation of the data\n",
    "\n",
    "{Insert linechart}"
   ]
  },
  {
   "cell_type": "markdown",
   "metadata": {
    "slideshow": {
     "slide_type": "subslide"
    }
   },
   "source": [
    "## Results for the data"
   ]
  },
  {
   "cell_type": "markdown",
   "metadata": {
    "slideshow": {
     "slide_type": "subslide"
    }
   },
   "source": [
    "## More than one time points\n",
    "\n",
    "{Insert graph, look at old slides}\n",
    "{add on mathematical derivation}"
   ]
  },
  {
   "cell_type": "markdown",
   "metadata": {
    "slideshow": {
     "slide_type": "subslide"
    }
   },
   "source": [
    "## Checks and controls\n",
    "\n",
    "* Autocorrelation\n",
    "    * Correlation error terms - ceck residuals and DW statistic\n",
    "* Seasonality\n",
    "    * Control for seasonal fluctuations when necessary\n",
    "* Extreame values - 'Wild' data points\n",
    "    * Only control if you have underlying explanition\n",
    "* Bias and confounding\n",
    "    * Use a control group if possible"
   ]
  },
  {
   "cell_type": "markdown",
   "metadata": {
    "slideshow": {
     "slide_type": "subslide"
    }
   },
   "source": [
    "## Adjusting for seasonal effects\n",
    "\n",
    "{Insert graph on seasonal effect and adjusting for it}"
   ]
  },
  {
   "cell_type": "markdown",
   "metadata": {
    "slideshow": {
     "slide_type": "subslide"
    }
   },
   "source": [
    "## Strengths of ITS\n",
    "\n",
    "* Uses existing routinley collected data\n",
    "    * Relatively low cost and timely to use\n",
    "* Rigorous method, good scientific basis\n",
    "* Can incorporate a control group but it is not essential"
   ]
  },
  {
   "cell_type": "markdown",
   "metadata": {
    "slideshow": {
     "slide_type": "subslide"
    }
   },
   "source": [
    "## Threats to validity\n",
    "\n",
    "* History\n",
    "    * Co-occurring events\n",
    "* Testing\n",
    "    * Frequent assessment influences the outcome\n",
    "* Instrumentation\n",
    "    * Changes in the measuring instrument over time\n",
    "* Instability\n",
    "    * Fluctuating measures, inherently unstable\n",
    "* Regression to the Mean\n",
    "    * Essential to have an adequate length of time to ensure real effect\n",
    "* Selection\n",
    "    * Pre-existing differences between intervention and control groups (Regarding their response to the intervetnion)"
   ]
  },
  {
   "cell_type": "markdown",
   "metadata": {
    "slideshow": {
     "slide_type": "subslide"
    }
   },
   "source": [
    "## Other Problems\n",
    "\n",
    "* Routine data is often not designed as a research tool\n",
    "    * May lack useful information - e.g. hospital activity not outcomes\n",
    "* Evaluations are retrospective\n",
    "    * May lack timeliness to inform policy"
   ]
  },
  {
   "cell_type": "markdown",
   "metadata": {
    "slideshow": {
     "slide_type": "subslide"
    }
   },
   "source": [
    "## Quality criteria for ITS studies (Cochrane EPOC group)\n",
    "\n",
    "* Protection against secular changes\n",
    "    * Intervention is independent of other changes over time\n",
    "* Data were analysed appropriately\n",
    "    * ARIMA or time series regressions (test for serial correlation)\n",
    "* Reason for the number of points pre and post intervention was given\n",
    "* Shape of the intervention effect was specified\n",
    "* Protection against detection bias (intervention was unlikley to affect measurment)\n",
    "* Blinded or objective assesment of primary outcomes\n",
    "* compleateness of dataset\n",
    "* Reliable primary outcome measures"
   ]
  },
  {
   "cell_type": "markdown",
   "metadata": {
    "slideshow": {
     "slide_type": "fragment"
    }
   },
   "source": [
    "## Some examples (From UoY student dissertation)\n",
    "\n",
    "### Interupted time series: uptake of clinical guidance\n",
    "\n",
    "### Impact of NICE guidance on hernia repair\n",
    "\n",
    "### Wisdom teeth extraction\n",
    "\n",
    "### Use of orlistat for obesity\n",
    "\n",
    "{add more later}"
   ]
  },
  {
   "cell_type": "markdown",
   "metadata": {
    "slideshow": {
     "slide_type": "slide"
    }
   },
   "source": [
    "## Regression discontinuity design\n",
    "credit to David Torgerson and Christian Stock\n",
    "\n",
    "* Another robust, non-randomised evaluation design\n",
    "* rediscovered several times since Thistlewaite and Campbell described in 1960s\n",
    "    * Mainly used in sicial science and economics\n",
    "* Sometimes known as a risk based cut-off design,\n",
    "* Selects people into a group on the basis of a measureable continuoud variable\n",
    "    * e.g. age, BMI, Blood pressure, deprivation level"
   ]
  },
  {
   "cell_type": "markdown",
   "metadata": {
    "slideshow": {
     "slide_type": "subslide"
    }
   },
   "source": [
    "## Regression discontinuity - what is it?\n",
    "\n",
    "* Assign participants to intervention or controll based on a continouse variable\n",
    "* Select a cutoff at a meaningufull value\n",
    "    * Median is the most efficient (Highest statistical power)\n",
    "* Participants are assigned on the basis of being different not the same\n",
    "    * overcomes some ethical or practical obstacles to randomisation, e.g. when it is unethical to withhold treatment"
   ]
  },
  {
   "cell_type": "markdown",
   "metadata": {
    "slideshow": {
     "slide_type": "subslide"
    }
   },
   "source": [
    "## How does it work?\n",
    "\n",
    "* Select on a pre-test variable\n",
    "    * Can be related or unrelated to the desired outcome\n",
    "    * Clearly quantifiable selection criterion, which cannot be manipulated or anticipated by participants\n",
    "* Compare post-test scores on the intervention outcome\n",
    "* Test to see if there is a 'discontinuity' in the regression line\n",
    "    * Compares people just above and just below the cut-off score"
   ]
  },
  {
   "cell_type": "markdown",
   "metadata": {
    "slideshow": {
     "slide_type": "subslide"
    }
   },
   "source": [
    "{Graph of effective treatment - Shadish et al 2002}\n",
    "{Graph of ineffective treatment - Shadish et al 2002}"
   ]
  },
  {
   "cell_type": "markdown",
   "metadata": {
    "slideshow": {
     "slide_type": "subslide"
    }
   },
   "source": [
    "## Assignment and cut-offs\n",
    "\n",
    "* Assignment variable - can be ANY Quantitative variable (related or unrelated to the intervention)\n",
    "    * E.g. age; quality of life; year; position on waiting list; income; clinical score; educational test score...\n",
    "* Cut-off\n",
    "    * Can be based on practical reasons; resource reasons (e.g., first X number on a waiting list); statistical reasons (the median cut gives best statistical power)"
   ]
  },
  {
   "cell_type": "markdown",
   "metadata": {
    "slideshow": {
     "slide_type": "subslide"
    }
   },
   "source": [
    "## Example\n",
    "\n",
    "* Eercise and diatary advice for chldren\n",
    "    * Might be thought unethical to withhold this from children with a weight problem.\n",
    "    * Could this be addressing using RDD?\n",
    "    * What decisios might you need to consider?"
   ]
  },
  {
   "cell_type": "markdown",
   "metadata": {
    "slideshow": {
     "slide_type": "subslide"
    }
   },
   "source": [
    "{Graph of hypothetical RDD}\n",
    "{Combining an RDD and RCTs}"
   ]
  },
  {
   "cell_type": "markdown",
   "metadata": {
    "slideshow": {
     "slide_type": "subslide"
    }
   },
   "source": [
    "## Simulation\n",
    "\n",
    "* To see how the RD design performed in a health situation Stock 2007.\n",
    "* UKBEAM was a RCT of maipulation for low back pain, stock divided the data at the median baseline pain scores and control group for low scores\n",
    "\n",
    "{UK BEAM simulation ?}\n",
    "\n",
    "* The RD method showed a difference between the groups of just over 1 point in low back pain at the cut-point - this was not statistically significant\n",
    "* In the trial we observed a 2.5 point statistically significant difference."
   ]
  },
  {
   "cell_type": "markdown",
   "metadata": {
    "slideshow": {
     "slide_type": "slide"
    }
   },
   "source": [
    "## Comparing RDD to RCTs\n",
    "\n",
    "#### RDD\n",
    "* Cut-off assignment\n",
    "* Assignment is perfectly known and measured\n",
    "* Compare regressions\n",
    "* Exchangeability at cutoff\n",
    "\n",
    "#### RCT\n",
    "* Random assignment\n",
    "* Assignment is perfectly known and measured\n",
    "* Compare post-test means\n",
    "* Exchangeability"
   ]
  },
  {
   "cell_type": "markdown",
   "metadata": {
    "slideshow": {
     "slide_type": "subslide"
    }
   },
   "source": [
    "## Comparing RDD to ITS\n",
    "\n",
    "#### ITS\n",
    "* Time\n",
    "* Population level data\n",
    "* Compare leve (Intercept) and trend\n",
    "* Sensitive to competing interventions\n",
    "* Sensitive to population composition\n",
    "* easy to do retrospectivly\n",
    "\n",
    "#### RDD\n",
    "* Continuous variable\n",
    "* Individual level data\n",
    "* Compare level (Intercept) and trend\n",
    "* Sensitive to competing interventions\n",
    "* Robust to population composition\n",
    "* Hard to do retrospectively"
   ]
  },
  {
   "cell_type": "markdown",
   "metadata": {
    "slideshow": {
     "slide_type": "subslide"
    }
   },
   "source": [
    "## Problems with RD\n",
    "\n",
    "* **Low statistical power**\n",
    "    * we typically need atleast 2.75 times the sample size as a rct to have the same power IF the cut-point is the median\n",
    "* **Fuzzy cut point**\n",
    "    * If people do not keep to the cut-point then the break becomes fuzzy and inference and power is lost"
   ]
  },
  {
   "cell_type": "markdown",
   "metadata": {
    "slideshow": {
     "slide_type": "subslide"
    }
   },
   "source": [
    "## Wrong functional form\n",
    "\n",
    "{Insert RDD with a qubic relationship in the data}"
   ]
  },
  {
   "cell_type": "markdown",
   "metadata": {
    "slideshow": {
     "slide_type": "subslide"
    }
   },
   "source": [
    "## Necessary conditions for using RDD\n",
    "\n",
    "* 'Forcing variable' (on which selection is based) mut be continuous or ordinal, with a sufficient number of unique values\n",
    "* There must be no factor confounded with the forcing variable\n",
    "    * To ensure that causal effects can be isolated\n",
    "* Value of the variable cannot be manipulated by individuals (e.g. misreporting or deciding to remain one side of a treshold)"
   ]
  },
  {
   "cell_type": "markdown",
   "metadata": {
    "slideshow": {
     "slide_type": "slide"
    }
   },
   "source": [
    "# Conclusions\n",
    "\n",
    "* ITS is a usefull technique to evaluate policy change retrospectively\n",
    "    * Particularly useful with an existing administrative dataset\n",
    "    * A control group is not essential - change can be one-off and national\n",
    "* RDD is a useful technique to evaluate policy prospectively when randomisation is unfeasible\n",
    "* Requires a continouse variable and a cut-off point to assign participants\n",
    "* Both need good data and carefull analysis"
   ]
  }
 ],
 "metadata": {
  "celltoolbar": "Slideshow",
  "kernelspec": {
   "display_name": "Python 3",
   "language": "python",
   "name": "python3"
  },
  "language_info": {
   "codemirror_mode": {
    "name": "ipython",
    "version": 3
   },
   "file_extension": ".py",
   "mimetype": "text/x-python",
   "name": "python",
   "nbconvert_exporter": "python",
   "pygments_lexer": "ipython3",
   "version": "3.6.1"
  }
 },
 "nbformat": 4,
 "nbformat_minor": 2
}
