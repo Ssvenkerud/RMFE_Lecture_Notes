{
 "cells": [
  {
   "attachments": {},
   "cell_type": "markdown",
   "metadata": {},
   "source": [
    "# Survey's Introduction\n",
    "by Simen Svenkerud\n",
    "\n",
    "## Introduction\n",
    "* Originated in victorian britain and the collection of poverty data\n",
    "* Aims at maiking inference of the whole based on a subsample\n",
    "* Multiple types of surveys\n",
    "    * Social Survey\n",
    "        * Measures Attitudes, behaviours, knowledge\n",
    "        * Collects data as accuratly as possible\n",
    "    * Descriptive Surveys\n",
    "        * Describes a population\n",
    "        * Associations between variables\n",
    "        * Establish trends\n",
    "    * Longitudinal Surveys\n",
    "        * Repeted measures\n",
    "* They aim to allow repeted studies to arrive at the same results.\n",
    "* data can be collected by:\n",
    "    * Face to face intervju\n",
    "    * Phone Intervju\n",
    "    * Postal/Internet/handout questionairs\n",
    "        * Collectivly known as self assesment questionairs.\n",
    "    * Diaries\n",
    "* Sensitive to seasonal effects\n",
    "    * mitigated by iming in data collection.\n",
    "* A large benefit is the ease of randomisation, alloving for the use of statistical inference with limited bias.\n",
    "\n",
    "## Descriptive and Analythical\n",
    "\n",
    "\n",
    "## Refrences\n",
    "\n",
    "*Bowling 2014 - Researchmethods in health*"
   ]
  }
 ],
 "metadata": {
  "kernelspec": {
   "display_name": "Python 3",
   "language": "python",
   "name": "python3"
  },
  "language_info": {
   "codemirror_mode": {
    "name": "ipython",
    "version": 3
   },
   "file_extension": ".py",
   "mimetype": "text/x-python",
   "name": "python",
   "nbconvert_exporter": "python",
   "pygments_lexer": "ipython3",
   "version": "3.6.1"
  }
 },
 "nbformat": 4,
 "nbformat_minor": 2
}
