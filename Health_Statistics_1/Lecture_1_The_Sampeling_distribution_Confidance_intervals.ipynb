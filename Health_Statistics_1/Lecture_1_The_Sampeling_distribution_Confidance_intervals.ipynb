{
 "cells": [
  {
   "cell_type": "markdown",
   "metadata": {
    "collapsed": true
   },
   "source": [
    "# Sampeling distribution and Confidance intervals\n",
    "Simen Svenkerud"
   ]
  },
  {
   "cell_type": "markdown",
   "metadata": {},
   "source": [
    "## Health statistics: on one slide\n",
    "{Insert the slide from UoY}"
   ]
  },
  {
   "cell_type": "markdown",
   "metadata": {},
   "source": [
    "# Estimating Sampleing distribution\n",
    "## Example\n",
    "* Two RCTs compared use of intramuscular haloperiod plus promethazine to another treatment for rapid tranquillisation in psychiatric emergency setting\n",
    "    * India: by one hour 149 out of 150 (99%) were Tranquil/asleep\n",
    "    * Brazil: by one hour 139 out of 160 (87%) were Tranquil/asleep\n",
    "    * Use samples to estimate population parameters\n",
    "    \n",
    "ref.: Raveendran et al 2007, Huf et al 2007"
   ]
  },
  {
   "cell_type": "markdown",
   "metadata": {},
   "source": [
    "## A conidance Interval\n",
    "\n",
    "* Is an interval estimate of an unknown population perameter (the mean), based on **a random sample** from the population\n",
    "* A confidance interval suggests what parameter values could have generated the observed data as a likely outcome"
   ]
  },
  {
   "cell_type": "markdown",
   "metadata": {},
   "source": [
    "## Multiple observations"
   ]
  },
  {
   "cell_type": "markdown",
   "metadata": {},
   "source": [
    "## The normal distribution"
   ]
  },
  {
   "cell_type": "markdown",
   "metadata": {},
   "source": [
    "## The mean"
   ]
  },
  {
   "cell_type": "markdown",
   "metadata": {},
   "source": [
    "## Standard Error\n",
    "\n",
    "{table of mean, and sd as sample increases}\n",
    "\n",
    "* SD the sampling distribution\n",
    "* As sample size increases the sampeling error decreases\n",
    "* SD vs. SE"
   ]
  },
  {
   "cell_type": "markdown",
   "metadata": {},
   "source": [
    "## Sampeling Distribution and the Central Limit Theorem\n",
    "\n",
    "* If sample size is large enugh\n",
    "* Sampeling distribution follows a normal distribution with the following parameters\n",
    "    * Mean = Mean of the population and estimated by the sample mean\n",
    "    * SD of Sampeling Distribution (SE) = SD population/ sq.root of n and estimated by s/sq.root of n"
   ]
  },
  {
   "cell_type": "markdown",
   "metadata": {},
   "source": []
  },
  {
   "cell_type": "markdown",
   "metadata": {},
   "source": []
  },
  {
   "cell_type": "markdown",
   "metadata": {},
   "source": []
  },
  {
   "cell_type": "markdown",
   "metadata": {},
   "source": []
  },
  {
   "cell_type": "markdown",
   "metadata": {},
   "source": []
  },
  {
   "cell_type": "markdown",
   "metadata": {},
   "source": []
  },
  {
   "cell_type": "markdown",
   "metadata": {},
   "source": []
  },
  {
   "cell_type": "markdown",
   "metadata": {},
   "source": []
  },
  {
   "cell_type": "markdown",
   "metadata": {},
   "source": []
  },
  {
   "cell_type": "markdown",
   "metadata": {},
   "source": []
  },
  {
   "cell_type": "markdown",
   "metadata": {},
   "source": []
  },
  {
   "cell_type": "markdown",
   "metadata": {},
   "source": []
  },
  {
   "cell_type": "markdown",
   "metadata": {},
   "source": []
  },
  {
   "cell_type": "markdown",
   "metadata": {},
   "source": []
  },
  {
   "cell_type": "markdown",
   "metadata": {},
   "source": []
  },
  {
   "cell_type": "markdown",
   "metadata": {},
   "source": []
  }
 ],
 "metadata": {
  "kernelspec": {
   "display_name": "Python 3",
   "language": "python",
   "name": "python3"
  },
  "language_info": {
   "codemirror_mode": {
    "name": "ipython",
    "version": 3
   },
   "file_extension": ".py",
   "mimetype": "text/x-python",
   "name": "python",
   "nbconvert_exporter": "python",
   "pygments_lexer": "ipython3",
   "version": "3.6.1"
  }
 },
 "nbformat": 4,
 "nbformat_minor": 2
}
