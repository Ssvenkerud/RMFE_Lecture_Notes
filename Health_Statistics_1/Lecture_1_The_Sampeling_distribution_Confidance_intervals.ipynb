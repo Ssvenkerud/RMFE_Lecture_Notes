{
 "cells": [
  {
   "cell_type": "markdown",
   "metadata": {
    "collapsed": true
   },
   "source": [
    "# Sampeling distribution and Confidance intervals\n",
    "Simen Svenkerud"
   ]
  },
  {
   "cell_type": "markdown",
   "metadata": {},
   "source": [
    "## Health statistics: on one slide\n",
    "{Insert the slide from UoY}"
   ]
  },
  {
   "cell_type": "markdown",
   "metadata": {},
   "source": [
    "# Estimating Sampleing distribution\n",
    "## Example\n",
    "* Two RCTs compared use of intramuscular haloperiod plus promethazine to another treatment for rapid tranquillisation in psychiatric emergency setting\n",
    "    * India: by one hour 149 out of 150 (99%) were Tranquil/asleep\n",
    "    * Brazil: by one hour 139 out of 160 (87%) were Tranquil/asleep\n",
    "    * Use samples to estimate population parameters\n",
    "    \n",
    "ref.: Raveendran et al 2007, Huf et al 2007"
   ]
  },
  {
   "cell_type": "markdown",
   "metadata": {},
   "source": [
    "## A conidance Interval\n",
    "\n",
    "* Is an interval estimate of an unknown population perameter (the mean), based on **a random sample** from the population\n",
    "* A confidance interval suggests what parameter values could have generated the observed data as a likely outcome"
   ]
  },
  {
   "cell_type": "markdown",
   "metadata": {},
   "source": [
    "## Multiple observations"
   ]
  },
  {
   "cell_type": "markdown",
   "metadata": {},
   "source": [
    "## The normal distribution"
   ]
  },
  {
   "cell_type": "markdown",
   "metadata": {},
   "source": [
    "## The mean"
   ]
  },
  {
   "cell_type": "markdown",
   "metadata": {},
   "source": [
    "## Standard Error\n",
    "\n",
    "{table of mean, and sd as sample increases}\n",
    "\n",
    "* SD the sampling distribution\n",
    "* As sample size increases the sampeling error decreases\n",
    "* SD vs. SE"
   ]
  },
  {
   "cell_type": "markdown",
   "metadata": {},
   "source": [
    "## Sampeling Distribution and the Central Limit Theorem\n",
    "\n",
    "* If sample size is large enugh\n",
    "* Sampeling distribution follows a normal distribution with the following parameters\n",
    "    * Mean = Mean of the population and estimated by the sample mean\n",
    "    * SD of Sampeling Distribution (SE) = SD population/ sq.root of n and estimated by s/sq.root of n"
   ]
  },
  {
   "cell_type": "markdown",
   "metadata": {},
   "source": [
    "## Sampeling Distribution of the mean\n",
    "\n",
    "* Is a distribution of sample means with a given sample size (samples are randomly selected from a population)\n",
    "* has the same mean as the population.\n",
    "* Standard error of the mean is a measure of variability of the sampling distribution\n",
    "* As n gets larger, variability of the sample means gets smaller\n",
    "* If n is large can use a normal approximation otherwise use t "
   ]
  },
  {
   "cell_type": "markdown",
   "metadata": {},
   "source": [
    "## Estimation: Confidance Interval\n",
    "\n",
    "* Sample Statistics\n",
    "    * Sample Size 100\n",
    "    * Mean = 28.83\n",
    "    * SD = 5.71557\n",
    "* Sampling Distribution follows a Normal distribution with\n",
    "    * mean = 28.83\n",
    "    * standard deviation = 5.71557/ √100 = 0.571557\n",
    "* 95% of samples have a mean within ± 1.96 * 0.57 from the mean of 28.83\n",
    "* 95% confident that the mean of the population will lie between 28.83 ± 1.96 * 0.57 = 28.83 ± 1.12 27.71, 29.95\n",
    "\n",
    "consists of a sample statistic (the\n",
    "estimated mean ) plus or minus a\n",
    "measure of sampling error (for a 95% CI\n",
    "with normal distribution this is 1.96 * SE)"
   ]
  },
  {
   "cell_type": "markdown",
   "metadata": {},
   "source": [
    "## X% Confidance intervalls (CI)\n",
    "\n",
    "* If you can use Normal distribution then\n",
    "    * a 95% CI = mean ± 1.96 x SE\n",
    "    * a 99% CI = mean ± 2.58 x SE\n",
    "    * a 90% CI = mean ± 1.64 x SE\n",
    "* For the t-distribution use SPSS or other statistical packages (or use statistical tables)"
   ]
  },
  {
   "cell_type": "markdown",
   "metadata": {},
   "source": [
    "## Examples using Normal distribution\n",
    "\n",
    "* Sample Size 96 26.92 ± 1.96 * .535 = (25.87, 27.97)\n",
    "* Sample Size 14 30.21 ± 1.96 * 1.302 = (27.66, 32.76)\n",
    "* Sample Size 5 32.00 ± 1.96 * 2.302 = (27.49, 36.5)\n"
   ]
  },
  {
   "cell_type": "markdown",
   "metadata": {},
   "source": [
    "## Confidence Interval for a **population mean**\n",
    "\n",
    "* consists of a sample statistic (the estimated mean ) plus or minus a measure of sampling error (for a 95% CI with normal distribution this is 1.96 * SE)\n",
    "* If many random samples are independently sampled from a population and 95% confidence intervals constructed for each one, we would expect about 5% intervals not to include the population mean.\n",
    "* The parameter is either included or not but you don't know.\n",
    "* should be based on a t statistic when the population distribution is approximately normal (or at least not too skewed) and SD of population is unknown.\n",
    "* As sample size increases => narrower interval width (all other things being equal).\n",
    "* Higher confidence levels => wider intervals (all other things being equal).\n",
    "* Narrow widths and high confidence levels are desirable, but these two things affect each other.\n",
    "* Desirable to have a narrow width (=> precise estimates) with a high level of confidence. A narrow width alone is not sufficient (if it has a low level of confidence). \n"
   ]
  },
  {
   "cell_type": "markdown",
   "metadata": {},
   "source": [
    "## Other Sampling distributions\n",
    "\n",
    "* Population\n",
    "* Standard Deviation\n",
    "* Variance"
   ]
  }
 ],
 "metadata": {
  "kernelspec": {
   "display_name": "Python 3",
   "language": "python",
   "name": "python3"
  },
  "language_info": {
   "codemirror_mode": {
    "name": "ipython",
    "version": 3
   },
   "file_extension": ".py",
   "mimetype": "text/x-python",
   "name": "python",
   "nbconvert_exporter": "python",
   "pygments_lexer": "ipython3",
   "version": "3.6.1"
  }
 },
 "nbformat": 4,
 "nbformat_minor": 2
}
