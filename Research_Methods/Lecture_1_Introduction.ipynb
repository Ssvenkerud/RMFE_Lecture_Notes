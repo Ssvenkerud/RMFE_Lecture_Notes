{
 "cells": [
  {
   "cell_type": "markdown",
   "metadata": {
    "collapsed": true,
    "slideshow": {
     "slide_type": "slide"
    }
   },
   "source": [
    "# Research Methods\n",
    "\n",
    "## Lecture 1 Introduction\n",
    "By Simen Svenkerud"
   ]
  },
  {
   "cell_type": "markdown",
   "metadata": {
    "slideshow": {
     "slide_type": "slide"
    }
   },
   "source": [
    "# Aims\n",
    "\n",
    "* Facilitate the learning for people who engage with research data, or with the research process.\n",
    "* Devlop skills in: \n",
    "    * the critical analysis of research\n",
    "    * Applying research findings to Practice\n",
    "    * Conduct of the early stages of research\n",
    "    \n",
    "    \n",
    "* Develop an understanding of the research process form systematic examination of existing knowledge, through design, data collection, analysis and onto dessimination"
   ]
  },
  {
   "cell_type": "markdown",
   "metadata": {},
   "source": [
    "# Scaremonger research\n",
    "\n",
    "### \"We are generally the better persuaded by the resons we discover ourselvs than by those given to us by others\" - *Blaise Paschal*\n",
    "\n",
    "{insert Vacsine article}\n",
    "\n",
    "{insert Swine flu article}"
   ]
  },
  {
   "cell_type": "markdown",
   "metadata": {},
   "source": [
    "### What might they have in common?\n",
    "\n",
    "{insert Ben Goldacre - preventing bad reporting on health reserch}\n",
    "\n",
    "{insert Ben Goldacre - Bad Science}\n",
    "\n",
    "{insert Ben Goldacre - Bad Pharma}"
   ]
  },
  {
   "cell_type": "markdown",
   "metadata": {},
   "source": [
    "# Research Jargon\n",
    "\n",
    "* Bias\n",
    "    * Systematic deviattion of results or inferences from truth\n",
    "* Science\n",
    "    * Truth or Knowledge or validity\n",
    "* Validity\n",
    "* Research Method\n",
    "    * Systematic procedures or \"rules\" for gaining new knowledge i.e. resolving uncertainty"
   ]
  },
  {
   "cell_type": "markdown",
   "metadata": {},
   "source": [
    "{Insert Elements of Scientific thought}"
   ]
  },
  {
   "cell_type": "markdown",
   "metadata": {},
   "source": [
    "# What are research methods\n",
    "\n",
    "* Rules that exist in the form of customs and acceptd practices in gain new Knowledge\n",
    "* Start with a research question that condenses the purpose of the enquiry - what exactly it is you want to know\n",
    "* Use most appropriate strategy / design for gettin a valid answer to your question\n",
    "* Approptiateness determined by capacity to overcome problems that can be anticipated"
   ]
  },
  {
   "cell_type": "markdown",
   "metadata": {},
   "source": [
    "# One key characteristic \n",
    "\n",
    "* Transparency\n",
    "* Permits assesment of process used to obtain truth and judgement about reliability\n",
    "* Embodied in IMRD reporting format\n",
    "* Rival claims about knowledge (Possible answeres to questions) need to be tested or assessed\n",
    "* Alternative explanations for findings need to be ruled out before conclusions can be drawn"
   ]
  },
  {
   "cell_type": "markdown",
   "metadata": {},
   "source": [
    "# Some suggestions\n",
    "\n",
    "Rule 1: View a problem from more than one perspective.\n",
    "\n",
    "Rule 2: Prior assumtions concerning data are *dangerous!*\n",
    "\n",
    "Rule 3: Yes/No questions, properly formed provide usefull data (they are called hypothesis)\n",
    "\n",
    "Rule 4: Details that do not fit expected patterns are odten very important!"
   ]
  },
  {
   "cell_type": "markdown",
   "metadata": {},
   "source": [
    "# A key Challenge\n",
    "\n",
    "* **Complexity** is generally used to chaacterise something with many parts where those parts interact with each other in multiple ways (so says wkipedia)\n",
    "\n",
    "... the truth may be (increasingly?) dificult to find"
   ]
  },
  {
   "cell_type": "markdown",
   "metadata": {},
   "source": [
    "# Underpinning value base\n",
    "\n",
    "* Knowledge/truth helpful for improving health (& people's lives more broadly)\n",
    "* Better knowledge is more so & research methods yield better knowledge\n",
    "* Can be used as a means to this end... to the extent that we are open to new knowledge"
   ]
  },
  {
   "cell_type": "markdown",
   "metadata": {},
   "source": [
    "# Quantittive research\n",
    "\n",
    "* Consists of numerical data & their manipulation\n",
    "* Can measure attitudes, opinions, behaviours, problems, conditions, and other variables...\n",
    "* Simplification used as a strategy to manage and investigate complexity"
   ]
  },
  {
   "cell_type": "markdown",
   "metadata": {},
   "source": [
    "{insert statistics jokes}"
   ]
  },
  {
   "cell_type": "markdown",
   "metadata": {},
   "source": [
    "## Some features of quant. research\n",
    "\n",
    "* Similar general principles as a natural sciences - \"positivism\" - for study of peoples health\n",
    "* Deductive logic is adopted where pre-existing ideas are tested\n",
    "* Design of the research is pre-specified in detail at an erly stage\n",
    "* Objectivity and a neutral value-free position sought"
   ]
  },
  {
   "cell_type": "markdown",
   "metadata": {},
   "source": [
    "# Qualitative Research\n",
    "\n",
    "* Consists of data in the form of words\n",
    "* Seek to gain understanding of underlying reasons, opinions, motivations, meaning & contexts\n",
    "* Explores complexity\n",
    "* Of value in own right & can help to develop hypotheses for quant. "
   ]
  },
  {
   "cell_type": "markdown",
   "metadata": {},
   "source": [
    "{Insert qual research jokes}"
   ]
  },
  {
   "attachments": {},
   "cell_type": "markdown",
   "metadata": {},
   "source": [
    "## Some features of qual. research\n",
    "\n",
    "* Situations are described from the perspective of those involved\n",
    "\n",
    "* Inductive logic is used, starting with data from which ideas and concepts developed\n",
    "\n",
    "* Research design more emergent and flexible \n",
    "\n",
    "* Objectivity not prized as separates researcher from participants and obstructs eliciting of meaning\n"
   ]
  },
  {
   "attachments": {},
   "cell_type": "markdown",
   "metadata": {},
   "source": [
    "## Health Sciences research\n",
    "\n",
    "* Accepts key ontological and epistemological differences and recognises contributions of both\n",
    "* Strongly influenced by social sciences (key texts)\n",
    "* Accepts aspects of critiques of positivism:\n",
    "    * Evidence is always imperfect and fallible\n",
    "    * Focus on bias and problems in evidence generation needed\n",
    "    * Use best evidence we have at the time\n",
    "    * Acknowledges sociopolitical context of research\n",
    "    * Is highly pragmatic "
   ]
  },
  {
   "attachments": {},
   "cell_type": "markdown",
   "metadata": {},
   "source": [
    "## Pragmatism\n",
    "\n",
    "* 8Theories and approaches are viewed instrumentally/practically\n",
    "* Research questions key determinants of approaches to data needs\n",
    "* Acknowledges importance of subjectivity to health\n",
    "* Endorses eclecticism and pluralism in methods (quant, qual or mixed methods"
   ]
  },
  {
   "attachments": {},
   "cell_type": "markdown",
   "metadata": {},
   "source": [
    "### Do you prefer, or are you instinctively, quant or qual or similarly comfortable using both?"
   ]
  },
  {
   "attachments": {
    "image.png": {
     "image/png": "[encoded data removed]"
    }
   },
   "cell_type": "markdown",
   "metadata": {},
   "source": [
    "## Cause and effect?\n",
    "![image.png](attachment:image.png)"
   ]
  },
  {
   "cell_type": "markdown",
   "metadata": {},
   "source": [
    "## Associations are common\n",
    "\n",
    "Is there an underlying causal relationship between exosure and outcome?\n",
    "\n",
    "* What about...\n",
    "  * Chance/random variation\n",
    "  * Reverse Causation\n",
    "  * Bias/Systematic error\n",
    "  * Confounding"
   ]
  },
  {
   "attachments": {},
   "cell_type": "markdown",
   "metadata": {},
   "source": [
    "## Interrogating associations\n",
    "\n",
    "Could the observed association be due to\n",
    " \n",
    "* Chance (Statistical significance?)\n",
    "\n",
    "* Being in the opposite direction to that hypothesised (design?) \n",
    "\n",
    "* Systematic error (Bias) caused by the way: \n",
    "    * eg subjects were selected?\n",
    "    * eg information was obtained?\n",
    "\n",
    "* Differences in the distribution of another variable (Confounder) that was not:\n",
    "    * measured? \n",
    "    * taken account of in the analysis?\n",
    "\n",
    "* Causal"
   ]
  },
  {
   "attachments": {},
   "cell_type": "markdown",
   "metadata": {},
   "source": [
    "## Error\n"
   ]
  },
  {
   "cell_type": "markdown",
   "metadata": {},
   "source": []
  }
 ],
 "metadata": {
  "kernelspec": {
   "display_name": "Python 3",
   "language": "python",
   "name": "python3"
  },
  "language_info": {
   "codemirror_mode": {
    "name": "ipython",
    "version": 3
   },
   "file_extension": ".py",
   "mimetype": "text/x-python",
   "name": "python",
   "nbconvert_exporter": "python",
   "pygments_lexer": "ipython3",
   "version": "3.6.1"
  }
 },
 "nbformat": 4,
 "nbformat_minor": 2
}
